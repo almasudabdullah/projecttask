{
  "nbformat": 4,
  "nbformat_minor": 0,
  "metadata": {
    "colab": {
      "provenance": [],
      "gpuType": "T4",
      "authorship_tag": "ABX9TyPO1NEeBN5+3voB1l/MvYab",
      "include_colab_link": true
    },
    "kernelspec": {
      "name": "python3",
      "display_name": "Python 3"
    },
    "language_info": {
      "name": "python"
    },
    "accelerator": "GPU"
  },
  "cells": [
    {
      "cell_type": "markdown",
      "metadata": {
        "id": "view-in-github",
        "colab_type": "text"
      },
      "source": [
        "<a href=\"https://colab.research.google.com/github/almasudabdullah/projecttask/blob/main/Lab_1.ipynb\" target=\"_parent\"><img src=\"https://colab.research.google.com/assets/colab-badge.svg\" alt=\"Open In Colab\"/></a>"
      ]
    },
    {
      "cell_type": "code",
      "execution_count": null,
      "metadata": {
        "id": "PxgJ78PZecnY"
      },
      "outputs": [],
      "source": [
        "import tensorflow as tf\n",
        "from tensorflow.keras import layers, models\n",
        "from tensorflow.keras.datasets import mnist\n",
        "from tensorflow.keras.utils import to_categorical\n",
        "\n",
        "# Load and preprocess the MNIST dataset\n",
        "(x_train, y_train), (x_test, y_test) = mnist.load_data()\n",
        "x_train, x_test = x_train / 255.0, x_test / 255.0  # Normalize pixel values to be between 0 and 1\n",
        "\n",
        "# Flatten the images to a 1D array\n",
        "x_train = x_train.reshape((60000, 28 * 28))\n",
        "x_test = x_test.reshape((10000, 28 * 28))\n",
        "\n",
        "# Convert class vectors to binary class matrices\n",
        "y_train = to_categorical(y_train, 10)\n",
        "y_test = to_categorical(y_test, 10)\n",
        "\n",
        "# Build the MLP model\n",
        "model = models.Sequential()\n",
        "model.add(layers.Dense(128, activation='relu', input_shape=(28 * 28,)))\n",
        "model.add(layers.Dropout(0.2))  # Optional dropout layer for regularization\n",
        "model.add(layers.Dense(64, activation='relu'))\n",
        "model.add(layers.Dropout(0.2))\n",
        "model.add(layers.Dense(10, activation='softmax'))  # Output layer with 10 neurons for 10 classes\n",
        "\n",
        "# Compile the model\n",
        "model.compile(optimizer='adam',\n",
        "              loss='categorical_crossentropy',\n",
        "              metrics=['accuracy'])\n",
        "\n",
        "# Train the model\n",
        "model.fit(x_train, y_train, epochs=10, batch_size=32, validation_data=(x_test, y_test))\n",
        "\n",
        "# Evaluate the model on the test set\n",
        "test_loss, test_acc = model.evaluate(x_test, y_test)\n",
        "print(f'Test accuracy: {test_acc}')\n"
      ]
    },
    {
      "cell_type": "markdown",
      "source": [
        "With your own Handwritten Image"
      ],
      "metadata": {
        "id": "yTOjB2_unxiQ"
      }
    },
    {
      "cell_type": "code",
      "source": [
        "import tensorflow as tf\n",
        "from tensorflow.keras import layers, models\n",
        "from tensorflow.keras.datasets import mnist\n",
        "from tensorflow.keras.utils import to_categorical\n",
        "import matplotlib.pyplot as plt\n",
        "from PIL import Image\n",
        "\n",
        "# Load and preprocess the MNIST dataset\n",
        "(x_train, y_train), (x_test, y_test) = mnist.load_data()\n",
        "x_train, x_test = x_train / 255.0, x_test / 255.0  # Normalize pixel values to be between 0 and 1\n",
        "\n",
        "# Flatten the images to a 1D array\n",
        "x_train = x_train.reshape((60000, 28 * 28))\n",
        "x_test = x_test.reshape((10000, 28 * 28))\n",
        "\n",
        "# Convert class vectors to binary class matrices\n",
        "y_train = to_categorical(y_train, 10)\n",
        "y_test = to_categorical(y_test, 10)\n",
        "\n",
        "# Build the MLP model\n",
        "model = models.Sequential()\n",
        "model.add(layers.Dense(128, activation='relu', input_shape=(28 * 28,)))\n",
        "model.add(layers.Dropout(0.2))  # Optional dropout layer for regularization\n",
        "model.add(layers.Dense(64, activation='relu'))\n",
        "model.add(layers.Dropout(0.2))\n",
        "model.add(layers.Dense(10, activation='softmax'))  # Output layer with 10 neurons for 10 classes\n",
        "\n",
        "# Compile the model\n",
        "model.compile(optimizer='adam',\n",
        "              loss='categorical_crossentropy',\n",
        "              metrics=['accuracy'])\n",
        "\n",
        "# Train the model\n",
        "model.fit(x_train, y_train, epochs=10, batch_size=32, validation_data=(x_test, y_test))\n",
        "\n",
        "# Load and preprocess your handwritten image\n",
        "image_path = '/content/photo_2024-01-28_20-43-26.jpg'\n",
        "handwritten_image = Image.open(image_path).convert('L')  # Convert to grayscale\n",
        "handwritten_image = handwritten_image.resize((28, 28))    # Resize to 28x28 pixels\n",
        "handwritten_image = tf.keras.preprocessing.image.img_to_array(handwritten_image)\n",
        "handwritten_image = handwritten_image / 255.0             # Normalize pixel values\n",
        "\n",
        "# Flatten the image\n",
        "handwritten_image = handwritten_image.reshape((1, 784))\n",
        "\n",
        "# Make predictions\n",
        "predictions = model.predict(handwritten_image)\n",
        "\n",
        "# Display the handwritten image and predicted label\n",
        "plt.imshow(handwritten_image.reshape(28, 28), cmap='gray')\n",
        "plt.title(f\"Predicted Label: {tf.argmax(predictions[0]).numpy()}\")\n",
        "plt.show()\n"
      ],
      "metadata": {
        "id": "WMPUb9X2lYUh"
      },
      "execution_count": null,
      "outputs": []
    }
  ]
}