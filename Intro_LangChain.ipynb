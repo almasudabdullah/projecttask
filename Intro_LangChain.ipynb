{
  "nbformat": 4,
  "nbformat_minor": 0,
  "metadata": {
    "colab": {
      "provenance": [],
      "authorship_tag": "ABX9TyOti6h7gNSSvoMDtQDLQsSz",
      "include_colab_link": true
    },
    "kernelspec": {
      "name": "python3",
      "display_name": "Python 3"
    },
    "language_info": {
      "name": "python"
    }
  },
  "cells": [
    {
      "cell_type": "markdown",
      "metadata": {
        "id": "view-in-github",
        "colab_type": "text"
      },
      "source": [
        "<a href=\"https://colab.research.google.com/github/almasudabdullah/projecttask/blob/main/Intro_LangChain.ipynb\" target=\"_parent\"><img src=\"https://colab.research.google.com/assets/colab-badge.svg\" alt=\"Open In Colab\"/></a>"
      ]
    },
    {
      "cell_type": "code",
      "execution_count": null,
      "metadata": {
        "id": "avp_9cPxAloV"
      },
      "outputs": [],
      "source": [
        "!pip install huggingface_hub\n",
        "!pip install transformers\n",
        "!pip install langchain\n",
        "!pip install chainlit"
      ]
    },
    {
      "cell_type": "code",
      "source": [
        "import os\n",
        "import chainlit as cl\n",
        "from langchain import HuggingFaceHub, PromptTemplate, LLMChain"
      ],
      "metadata": {
        "id": "AKXTSBEvDypA"
      },
      "execution_count": 6,
      "outputs": []
    },
    {
      "cell_type": "code",
      "source": [
        "from getpass import getpass\n",
        "HUGGINGFACEHUB_API_TOKEN = getpass()\n",
        "os.environ['HUGGINGFACEHUB_API_TOKEN'] = HUGGINGFACEHUB_API_TOKEN"
      ],
      "metadata": {
        "colab": {
          "base_uri": "https://localhost:8080/"
        },
        "id": "pHrA3WZJGO0i",
        "outputId": "d05648be-76e6-4604-c84e-d72df4e4340d"
      },
      "execution_count": 15,
      "outputs": [
        {
          "name": "stdout",
          "output_type": "stream",
          "text": [
            "··········\n"
          ]
        }
      ]
    },
    {
      "cell_type": "code",
      "source": [
        "model_id = \"mistralai/Mixtral-8x7B-Instruct-v0.1\"\n",
        "conv_model = HuggingFaceHub(huggingfacehub_api_token=os.environ['HUGGINGFACEHUB_API_TOKEN'],\n",
        "                            repo_id=model_id,\n",
        "                            model_kwargs={\"temperature\":0.8, \"max_new_tokens\":500}) #0 to 1"
      ],
      "metadata": {
        "colab": {
          "base_uri": "https://localhost:8080/"
        },
        "id": "sf4IiT8LIKaz",
        "outputId": "57dea617-88ba-4b88-ad79-7f5d9a67e45a"
      },
      "execution_count": 33,
      "outputs": [
        {
          "output_type": "stream",
          "name": "stderr",
          "text": [
            "/usr/local/lib/python3.10/dist-packages/huggingface_hub/utils/_deprecation.py:131: FutureWarning: 'InferenceApi' (from 'huggingface_hub.inference_api') is deprecated and will be removed from version '1.0'. `InferenceApi` client is deprecated in favor of the more feature-complete `InferenceClient`. Check out this guide to learn how to convert your script to use it: https://huggingface.co/docs/huggingface_hub/guides/inference#legacy-inferenceapi-client.\n",
            "  warnings.warn(warning_message, FutureWarning)\n"
          ]
        }
      ]
    },
    {
      "cell_type": "code",
      "source": [
        "template = \"\"\"Let's generate text\n",
        "\n",
        "{query}\n",
        "\"\"\"\n",
        "\n",
        "prompt = PromptTemplate(template=template, input_variables=['query'])"
      ],
      "metadata": {
        "id": "EJhdtEf9IS4Q"
      },
      "execution_count": 40,
      "outputs": []
    },
    {
      "cell_type": "code",
      "source": [
        "conv_chain = LLMChain(llm=conv_model,\n",
        "                      prompt=prompt,\n",
        "                      verbose=True)"
      ],
      "metadata": {
        "id": "yFomUqKwIanM"
      },
      "execution_count": 42,
      "outputs": []
    },
    {
      "cell_type": "code",
      "source": [
        "print(conv_chain.run(\"History of Bangladesh\"))\n"
      ],
      "metadata": {
        "colab": {
          "base_uri": "https://localhost:8080/"
        },
        "id": "1KF50ExiSS2F",
        "outputId": "cc53c2a9-e9eb-4b5a-bd07-95d6a9caa199"
      },
      "execution_count": 46,
      "outputs": [
        {
          "output_type": "stream",
          "name": "stdout",
          "text": [
            "\n",
            "\n",
            "\u001b[1m> Entering new LLMChain chain...\u001b[0m\n",
            "Prompt after formatting:\n",
            "\u001b[32;1m\u001b[1;3mLet's generate text \n",
            "\n",
            "History of Bangladesh\n",
            "\u001b[0m\n",
            "\n",
            "\u001b[1m> Finished chain.\u001b[0m\n",
            "=======================\n",
            "\n",
            "Bangladesh is a country located in South Asia. It is the eighth-most populous country in the world, with a population of over 160 million people. The capital and largest city is Dhaka. Bangladesh shares its borders with India to the west, north, and east, and with Myanmar to the southeast. The country is separated from Nepal and Bhutan by the Siliguri Corridor, a narrow strip of Indian territory. Bangladesh is a parliamentary democracy. The head of state is the President, while the head of government is the Prime Minister. The country is divided into eight divisions.\n",
            "\n",
            "The history of Bangladesh can be traced back to the 7th century, when the region was part of the Bengal kingdom. The region was later ruled by the Maurya and Gupta empires, followed by the Sena empire. In the 13th century, the region came under the control of the Delhi Sultanate. In 1576, the region was annexed by the Mughal Empire and became a province of Bengal.\n",
            "\n",
            "In the 18th century, the British East India Company gained control of the region. The British ruled Bengal for over 200 years, during which time the region experienced significant economic and cultural development. The region was also a major center of the Indian independence movement.\n",
            "\n",
            "In 1947, the region was partitioned and became part of Pakistan. The region was known as East Pakistan and was separated from West Pakistan by over 1,000 miles of Indian territory. The region was economically, politically, and culturally marginalized by the Pakistani government.\n",
            "\n",
            "In 1971, the Bangladesh Liberation War took place, during which the people of East Pakistan fought for independence from Pakistan. The war resulted in the creation of the independent country of Bangladesh.\n",
            "\n",
            "Since its independence, Bangladesh has made significant progress in areas such as education, health care, and economic development. However, the country still faces challenges such as poverty, corruption, and political instability.\n",
            "\n",
            "Bangladesh is a predominantly Muslim country, with Islam being the state religion. The country is also home to significant Hindu, Buddhist, and Christian populations. The official language is Bangla,\n"
          ]
        }
      ]
    },
    {
      "cell_type": "code",
      "source": [
        "print(conv_chain.run(\"Rabindra Maitree University, Kushtia\"))\n"
      ],
      "metadata": {
        "colab": {
          "base_uri": "https://localhost:8080/"
        },
        "id": "B-po-rTtX1FK",
        "outputId": "9c2f7006-5fb8-46dd-fa1a-c47a8280493c"
      },
      "execution_count": 48,
      "outputs": [
        {
          "output_type": "stream",
          "name": "stdout",
          "text": [
            "\n",
            "\n",
            "\u001b[1m> Entering new LLMChain chain...\u001b[0m\n",
            "Prompt after formatting:\n",
            "\u001b[32;1m\u001b[1;3mLet's generate text \n",
            "\n",
            "Rabindra Maitree University, Kushtia\n",
            "\u001b[0m\n",
            "\n",
            "\u001b[1m> Finished chain.\u001b[0m\n",
            "\n",
            "Rabindra Maitree University, Kushtia, is the first private university in the Kushtia region, established in the year 2019, following the Private University Act 1992. The university is named after the Nobel Laureate Rabindranath Tagore, and it is committed to spreading the spirit of universal brotherhood and promoting human values through quality education.\n",
            "\n",
            "The university is located in the heart of Kushtia, a historically and culturally rich city, known for its literary and artistic heritage. The campus is spread over 10 acres of land, and it is equipped with modern facilities and infrastructure to provide a conducive environment for teaching and learning. The university offers undergraduate and postgraduate programs in various disciplines, including business, engineering, humanities, and social sciences.\n",
            "\n",
            "Rabindra Maitree University is a non-profit organization, and it is dedicated to serving the society by providing affordable and accessible education to all. The university promotes research and innovation, and it encourages students to think critically and creatively. The faculty members are experienced and qualified, and they are committed to delivering high-quality education and mentoring students.\n",
            "\n",
            "The university is committed to creating a diverse and inclusive community, and it welcomes students from different backgrounds and cultures. The university provides scholarships and financial aid to deserving students, and it also offers various extracurricular activities to enhance the overall learning experience of students.\n",
            "\n",
            "Rabindra Maitree University is recognized by the University Grants Commission (UGC) and the Ministry of Education, Government of Bangladesh. The university is also a member of the Association of Private Universities of Bangladesh (APUB) and the Association of Commonwealth Universities (ACU).\n",
            "\n",
            "In conclusion, Rabindra Maitree University, Kushtia, is a unique institution that is committed to providing quality education and promoting human values. The university is an ideal place for students who are looking for a holistic and transformative learning experience.\n"
          ]
        }
      ]
    }
  ]
}